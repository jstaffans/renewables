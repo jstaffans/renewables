{
 "cells": [
  {
   "cell_type": "code",
   "execution_count": 2,
   "metadata": {},
   "outputs": [],
   "source": [
    "from datetime import datetime, timedelta\n",
    "from app.tasks.generation import generation as generation_task\n",
    "import pandas as pd\n",
    "import numpy as np"
   ]
  },
  {
   "cell_type": "code",
   "execution_count": 7,
   "metadata": {},
   "outputs": [],
   "source": [
    "%matplotlib inline"
   ]
  },
  {
   "cell_type": "code",
   "execution_count": 8,
   "metadata": {},
   "outputs": [],
   "source": [
    "data = pd.read_csv('../data/generation_2017.csv')"
   ]
  },
  {
   "cell_type": "code",
   "execution_count": 9,
   "metadata": {},
   "outputs": [
    {
     "data": {
      "text/plain": [
       "(8030, 13)"
      ]
     },
     "execution_count": 9,
     "metadata": {},
     "output_type": "execute_result"
    }
   ],
   "source": [
    "data.shape"
   ]
  },
  {
   "cell_type": "code",
   "execution_count": 10,
   "metadata": {},
   "outputs": [
    {
     "data": {
      "text/html": [
       "<div>\n",
       "<style scoped>\n",
       "    .dataframe tbody tr th:only-of-type {\n",
       "        vertical-align: middle;\n",
       "    }\n",
       "\n",
       "    .dataframe tbody tr th {\n",
       "        vertical-align: top;\n",
       "    }\n",
       "\n",
       "    .dataframe thead th {\n",
       "        text-align: right;\n",
       "    }\n",
       "</style>\n",
       "<table border=\"1\" class=\"dataframe\">\n",
       "  <thead>\n",
       "    <tr style=\"text-align: right;\">\n",
       "      <th></th>\n",
       "      <th>timestamp</th>\n",
       "      <th>biomass</th>\n",
       "      <th>coal</th>\n",
       "      <th>fossil</th>\n",
       "      <th>hydro</th>\n",
       "      <th>natgas</th>\n",
       "      <th>oil</th>\n",
       "      <th>other</th>\n",
       "      <th>refuse</th>\n",
       "      <th>solar</th>\n",
       "      <th>wind</th>\n",
       "      <th>renewables</th>\n",
       "      <th>non_renewables</th>\n",
       "    </tr>\n",
       "  </thead>\n",
       "  <tbody>\n",
       "    <tr>\n",
       "      <th>766</th>\n",
       "      <td>2017-02-04 20:00:00</td>\n",
       "      <td>1299.0</td>\n",
       "      <td>9683.0</td>\n",
       "      <td>73.0</td>\n",
       "      <td>200.0</td>\n",
       "      <td>823.0</td>\n",
       "      <td>204.0</td>\n",
       "      <td>158.0</td>\n",
       "      <td>0.0</td>\n",
       "      <td>0.0</td>\n",
       "      <td>1822.0</td>\n",
       "      <td>3321.0</td>\n",
       "      <td>10942.0</td>\n",
       "    </tr>\n",
       "    <tr>\n",
       "      <th>6943</th>\n",
       "      <td>2017-11-12 15:00:00</td>\n",
       "      <td>1198.0</td>\n",
       "      <td>10952.0</td>\n",
       "      <td>72.0</td>\n",
       "      <td>157.0</td>\n",
       "      <td>564.0</td>\n",
       "      <td>198.0</td>\n",
       "      <td>157.0</td>\n",
       "      <td>306.0</td>\n",
       "      <td>2.0</td>\n",
       "      <td>550.0</td>\n",
       "      <td>1908.0</td>\n",
       "      <td>12249.0</td>\n",
       "    </tr>\n",
       "    <tr>\n",
       "      <th>1720</th>\n",
       "      <td>2017-03-20 06:00:00</td>\n",
       "      <td>1291.0</td>\n",
       "      <td>8470.0</td>\n",
       "      <td>72.0</td>\n",
       "      <td>1242.0</td>\n",
       "      <td>652.0</td>\n",
       "      <td>186.0</td>\n",
       "      <td>155.0</td>\n",
       "      <td>0.0</td>\n",
       "      <td>242.0</td>\n",
       "      <td>5748.0</td>\n",
       "      <td>8524.0</td>\n",
       "      <td>9535.0</td>\n",
       "    </tr>\n",
       "    <tr>\n",
       "      <th>604</th>\n",
       "      <td>2017-01-28 12:00:00</td>\n",
       "      <td>1334.0</td>\n",
       "      <td>9624.0</td>\n",
       "      <td>72.0</td>\n",
       "      <td>288.0</td>\n",
       "      <td>840.0</td>\n",
       "      <td>203.0</td>\n",
       "      <td>157.0</td>\n",
       "      <td>0.0</td>\n",
       "      <td>3388.0</td>\n",
       "      <td>1175.0</td>\n",
       "      <td>6186.0</td>\n",
       "      <td>10896.0</td>\n",
       "    </tr>\n",
       "    <tr>\n",
       "      <th>5268</th>\n",
       "      <td>2017-08-28 12:00:00</td>\n",
       "      <td>1088.0</td>\n",
       "      <td>8778.0</td>\n",
       "      <td>16.0</td>\n",
       "      <td>322.0</td>\n",
       "      <td>166.0</td>\n",
       "      <td>210.0</td>\n",
       "      <td>34.0</td>\n",
       "      <td>268.0</td>\n",
       "      <td>5444.0</td>\n",
       "      <td>43.0</td>\n",
       "      <td>6897.0</td>\n",
       "      <td>9473.0</td>\n",
       "    </tr>\n",
       "  </tbody>\n",
       "</table>\n",
       "</div>"
      ],
      "text/plain": [
       "                timestamp  biomass     coal  fossil   hydro  natgas    oil  \\\n",
       "766   2017-02-04 20:00:00   1299.0   9683.0    73.0   200.0   823.0  204.0   \n",
       "6943  2017-11-12 15:00:00   1198.0  10952.0    72.0   157.0   564.0  198.0   \n",
       "1720  2017-03-20 06:00:00   1291.0   8470.0    72.0  1242.0   652.0  186.0   \n",
       "604   2017-01-28 12:00:00   1334.0   9624.0    72.0   288.0   840.0  203.0   \n",
       "5268  2017-08-28 12:00:00   1088.0   8778.0    16.0   322.0   166.0  210.0   \n",
       "\n",
       "      other  refuse   solar    wind  renewables  non_renewables  \n",
       "766   158.0     0.0     0.0  1822.0      3321.0         10942.0  \n",
       "6943  157.0   306.0     2.0   550.0      1908.0         12249.0  \n",
       "1720  155.0     0.0   242.0  5748.0      8524.0          9535.0  \n",
       "604   157.0     0.0  3388.0  1175.0      6186.0         10896.0  \n",
       "5268   34.0   268.0  5444.0    43.0      6897.0          9473.0  "
      ]
     },
     "execution_count": 10,
     "metadata": {},
     "output_type": "execute_result"
    }
   ],
   "source": [
    "data.sample(n=5)"
   ]
  },
  {
   "cell_type": "code",
   "execution_count": 12,
   "metadata": {},
   "outputs": [],
   "source": [
    "data['renewables_ratio'] = data['renewables'] / (data['renewables'] + data['non_renewables'])"
   ]
  },
  {
   "cell_type": "code",
   "execution_count": 19,
   "metadata": {},
   "outputs": [
    {
     "data": {
      "text/plain": [
       "<matplotlib.axes._subplots.AxesSubplot at 0x7f49d45e0470>"
      ]
     },
     "execution_count": 19,
     "metadata": {},
     "output_type": "execute_result"
    },
    {
     "data": {
      "image/png": "[encoded data removed]",
      "text/plain": [
       "<matplotlib.figure.Figure at 0x7f49d46da278>"
      ]
     },
     "metadata": {},
     "output_type": "display_data"
    }
   ],
   "source": [
    "data['renewables_ratio'].plot(kind='hist', bins=50)"
   ]
  },
  {
   "cell_type": "code",
   "execution_count": null,
   "metadata": {},
   "outputs": [],
   "source": []
  }
 ],
 "metadata": {
  "kernelspec": {
   "display_name": "Python 3",
   "language": "python",
   "name": "python3"
  },
  "language_info": {
   "codemirror_mode": {
    "name": "ipython",
    "version": 3
   },
   "file_extension": ".py",
   "mimetype": "text/x-python",
   "name": "python",
   "nbconvert_exporter": "python",
   "pygments_lexer": "ipython3",
   "version": "3.6.4"
  }
 },
 "nbformat": 4,
 "nbformat_minor": 2
}
